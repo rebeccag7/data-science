{
 "cells": [
  {
   "cell_type": "code",
   "execution_count": 3,
   "metadata": {
    "collapsed": true
   },
   "outputs": [],
   "source": [
    "import requests"
   ]
  },
  {
   "cell_type": "code",
   "execution_count": 4,
   "metadata": {
    "collapsed": true
   },
   "outputs": [],
   "source": [
    "# Set up the parameters we want to pass to the API\n",
    "# This is the latitude and longitude\n",
    "\n",
    "parameters = {\"lat\": 40.71, \"lon\": -74}"
   ]
  },
  {
   "cell_type": "code",
   "execution_count": 5,
   "metadata": {
    "collapsed": false
   },
   "outputs": [],
   "source": [
    "# Make a get request with the parameters.\n",
    "response = requests.get(\"http://api.open-notify.org/iss-pass.json\", params=parameters)"
   ]
  },
  {
   "cell_type": "code",
   "execution_count": 6,
   "metadata": {
    "collapsed": false
   },
   "outputs": [
    {
     "name": "stdout",
     "output_type": "stream",
     "text": [
      "b'{\\n  \"message\": \"success\", \\n  \"request\": {\\n    \"altitude\": 100, \\n    \"datetime\": 1512338843, \\n    \"latitude\": 40.71, \\n    \"longitude\": -74.0, \\n    \"passes\": 5\\n  }, \\n  \"response\": [\\n    {\\n      \"duration\": 608, \\n      \"risetime\": 1512339361\\n    }, \\n    {\\n      \"duration\": 547, \\n      \"risetime\": 1512345234\\n    }, \\n    {\\n      \"duration\": 587, \\n      \"risetime\": 1512351063\\n    }, \\n    {\\n      \"duration\": 641, \\n      \"risetime\": 1512356849\\n    }, \\n    {\\n      \"duration\": 512, \\n      \"risetime\": 1512362675\\n    }\\n  ]\\n}\\n'\n"
     ]
    }
   ],
   "source": [
    "# Print the contents of the response\n",
    "print(response.content)"
   ]
  },
  {
   "cell_type": "code",
   "execution_count": 8,
   "metadata": {
    "collapsed": false
   },
   "outputs": [
    {
     "name": "stdout",
     "output_type": "stream",
     "text": [
      "b'{\\n  \"message\": \"success\", \\n  \"request\": {\\n    \"altitude\": 100, \\n    \"datetime\": 1512338843, \\n    \"latitude\": 40.71, \\n    \"longitude\": -74.0, \\n    \"passes\": 5\\n  }, \\n  \"response\": [\\n    {\\n      \"duration\": 608, \\n      \"risetime\": 1512339361\\n    }, \\n    {\\n      \"duration\": 547, \\n      \"risetime\": 1512345234\\n    }, \\n    {\\n      \"duration\": 587, \\n      \"risetime\": 1512351063\\n    }, \\n    {\\n      \"duration\": 641, \\n      \"risetime\": 1512356849\\n    }, \\n    {\\n      \"duration\": 512, \\n      \"risetime\": 1512362675\\n    }\\n  ]\\n}\\n'\n"
     ]
    }
   ],
   "source": [
    "# Another way to get the same data as above\n",
    "response = requests.get(\"http://api.open-notify.org/iss-pass.json?lat=40.71&lon=-74\")\n",
    "print(response.content)"
   ]
  },
  {
   "cell_type": "code",
   "execution_count": null,
   "metadata": {
    "collapsed": true
   },
   "outputs": [],
   "source": []
  }
 ],
 "metadata": {
  "anaconda-cloud": {},
  "kernelspec": {
   "display_name": "Python [conda root]",
   "language": "python",
   "name": "conda-root-py"
  },
  "language_info": {
   "codemirror_mode": {
    "name": "ipython",
    "version": 3
   },
   "file_extension": ".py",
   "mimetype": "text/x-python",
   "name": "python",
   "nbconvert_exporter": "python",
   "pygments_lexer": "ipython3",
   "version": "3.5.2"
  }
 },
 "nbformat": 4,
 "nbformat_minor": 1
}
