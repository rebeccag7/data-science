{
 "cells": [
  {
   "cell_type": "code",
   "execution_count": 1,
   "metadata": {
    "collapsed": true
   },
   "outputs": [],
   "source": [
    "import requests"
   ]
  },
  {
   "cell_type": "code",
   "execution_count": 2,
   "metadata": {
    "collapsed": true
   },
   "outputs": [],
   "source": [
    "# Set up the parameters we want to pass to the API\n",
    "# This is the latitude and longitude\n",
    "\n",
    "parameters = {\"lat\": 40.71, \"lon\": -74}"
   ]
  },
  {
   "cell_type": "code",
   "execution_count": 3,
   "metadata": {
    "collapsed": false
   },
   "outputs": [],
   "source": [
    "# Make a get request with the parameters.\n",
    "# Note on endpoints: An endpoint is a server route for retrieving specific data from an API. For example, /comments on the Reddit API.\n",
    "\n",
    "response = requests.get(\"http://api.open-notify.org/iss-pass.json\", params=parameters)"
   ]
  },
  {
   "cell_type": "code",
   "execution_count": 4,
   "metadata": {
    "collapsed": false
   },
   "outputs": [
    {
     "name": "stdout",
     "output_type": "stream",
     "text": [
      "b'{\\n  \"message\": \"success\", \\n  \"request\": {\\n    \"altitude\": 100, \\n    \"datetime\": 1512342666, \\n    \"latitude\": 40.71, \\n    \"longitude\": -74.0, \\n    \"passes\": 5\\n  }, \\n  \"response\": [\\n    {\\n      \"duration\": 547, \\n      \"risetime\": 1512345234\\n    }, \\n    {\\n      \"duration\": 587, \\n      \"risetime\": 1512351063\\n    }, \\n    {\\n      \"duration\": 641, \\n      \"risetime\": 1512356849\\n    }, \\n    {\\n      \"duration\": 512, \\n      \"risetime\": 1512362675\\n    }, \\n    {\\n      \"duration\": 612, \\n      \"risetime\": 1512416834\\n    }\\n  ]\\n}\\n'\n"
     ]
    }
   ],
   "source": [
    "# Print the contents of the response\n",
    "print(response.content)"
   ]
  },
  {
   "cell_type": "code",
   "execution_count": 5,
   "metadata": {
    "collapsed": false
   },
   "outputs": [
    {
     "name": "stdout",
     "output_type": "stream",
     "text": [
      "b'{\\n  \"message\": \"success\", \\n  \"request\": {\\n    \"altitude\": 100, \\n    \"datetime\": 1512342666, \\n    \"latitude\": 40.71, \\n    \"longitude\": -74.0, \\n    \"passes\": 5\\n  }, \\n  \"response\": [\\n    {\\n      \"duration\": 547, \\n      \"risetime\": 1512345234\\n    }, \\n    {\\n      \"duration\": 587, \\n      \"risetime\": 1512351063\\n    }, \\n    {\\n      \"duration\": 641, \\n      \"risetime\": 1512356849\\n    }, \\n    {\\n      \"duration\": 512, \\n      \"risetime\": 1512362675\\n    }, \\n    {\\n      \"duration\": 612, \\n      \"risetime\": 1512416834\\n    }\\n  ]\\n}\\n'\n"
     ]
    }
   ],
   "source": [
    "# Another way to get the same data as above\n",
    "response = requests.get(\"http://api.open-notify.org/iss-pass.json?lat=40.71&lon=-74\")\n",
    "print(response.content)"
   ]
  },
  {
   "cell_type": "code",
   "execution_count": 6,
   "metadata": {
    "collapsed": false
   },
   "outputs": [
    {
     "name": "stdout",
     "output_type": "stream",
     "text": [
      "<class 'dict'>\n",
      "{'request': {'datetime': 1512342666, 'longitude': -74.0, 'latitude': 40.71, 'altitude': 100, 'passes': 5}, 'response': [{'duration': 547, 'risetime': 1512345234}, {'duration': 587, 'risetime': 1512351063}, {'duration': 641, 'risetime': 1512356849}, {'duration': 512, 'risetime': 1512362675}, {'duration': 612, 'risetime': 1512416834}], 'message': 'success'}\n"
     ]
    }
   ],
   "source": [
    "# Get the response data as a Python object.\n",
    "\n",
    "json_data = response.json()\n",
    "print(type(json_data))\n",
    "print(json_data)"
   ]
  },
  {
   "cell_type": "code",
   "execution_count": 7,
   "metadata": {
    "collapsed": true
   },
   "outputs": [],
   "source": [
    "# Get the 'duration' value of the ISS' first pass over NYC\n",
    "first_pass_duration = json_data[\"response\"][0][\"duration\"]"
   ]
  },
  {
   "cell_type": "code",
   "execution_count": 9,
   "metadata": {
    "collapsed": false
   },
   "outputs": [
    {
     "name": "stdout",
     "output_type": "stream",
     "text": [
      "application/json\n"
     ]
    }
   ],
   "source": [
    "# Headers contain the metadata containing info on how the server generated the data and how to decode it\n",
    "content_type = response.headers[\"content-type\"]\n",
    "print(content_type)"
   ]
  },
  {
   "cell_type": "code",
   "execution_count": null,
   "metadata": {
    "collapsed": true
   },
   "outputs": [],
   "source": []
  }
 ],
 "metadata": {
  "anaconda-cloud": {},
  "kernelspec": {
   "display_name": "Python [conda root]",
   "language": "python",
   "name": "conda-root-py"
  },
  "language_info": {
   "codemirror_mode": {
    "name": "ipython",
    "version": 3
   },
   "file_extension": ".py",
   "mimetype": "text/x-python",
   "name": "python",
   "nbconvert_exporter": "python",
   "pygments_lexer": "ipython3",
   "version": "3.5.2"
  }
 },
 "nbformat": 4,
 "nbformat_minor": 1
}
